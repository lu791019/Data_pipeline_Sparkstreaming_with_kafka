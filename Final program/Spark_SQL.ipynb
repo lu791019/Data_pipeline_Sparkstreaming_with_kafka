{
 "cells": [
  {
   "cell_type": "code",
   "execution_count": 4,
   "metadata": {},
   "outputs": [],
   "source": [
    "import findspark\n",
    "findspark.init()"
   ]
  },
  {
   "cell_type": "code",
   "execution_count": 33,
   "metadata": {},
   "outputs": [],
   "source": [
    "import pyspark\n",
    "from pyspark import SparkConf, SparkContext\n",
    "from pyspark.sql import SparkSession, Row\n",
    "from pyspark.sql.types import *\n",
    "import pickle\n",
    "import pyhdfs\n",
    "import pyspark\n",
    "import pandas as pd\n",
    "import numpy as np\n",
    "import os"
   ]
  },
  {
   "cell_type": "code",
   "execution_count": 6,
   "metadata": {},
   "outputs": [],
   "source": [
    "spark =SparkSession.builder.getOrCreate()"
   ]
  },
  {
   "cell_type": "code",
   "execution_count": 20,
   "metadata": {},
   "outputs": [],
   "source": [
    "MRI_df = spark.read.csv(\"hdfs://quickstart.cloudera/user/cloudera/model_deploy/data/Pdata.txt\",header=True,inferSchema=True)"
   ]
  },
  {
   "cell_type": "code",
   "execution_count": 21,
   "metadata": {
    "scrolled": true
   },
   "outputs": [
    {
     "name": "stdout",
     "output_type": "stream",
     "text": [
      "root\n",
      " |-- PNO: integer (nullable = true)\n",
      " |-- ITEM_n: integer (nullable = true)\n",
      " |-- ORDERDR_n: integer (nullable = true)\n",
      " |-- DEPT_n: integer (nullable = true)\n",
      " |-- SEX_n: integer (nullable = true)\n",
      " |-- AGE: integer (nullable = true)\n",
      " |-- POS_n: integer (nullable = true)\n",
      " |-- IO_n: integer (nullable = true)\n",
      " |-- SECOND: integer (nullable = true)\n",
      "\n"
     ]
    }
   ],
   "source": [
    "MRI_df.printSchema()"
   ]
  },
  {
   "cell_type": "code",
   "execution_count": 22,
   "metadata": {
    "scrolled": false
   },
   "outputs": [
    {
     "name": "stdout",
     "output_type": "stream",
     "text": [
      "+--------+------+---------+------+-----+---+-----+----+------+\n",
      "|     PNO|ITEM_n|ORDERDR_n|DEPT_n|SEX_n|AGE|POS_n|IO_n|SECOND|\n",
      "+--------+------+---------+------+-----+---+-----+----+------+\n",
      "|37753240|     0|      197|    22|    0| 64|   17|   1|  2296|\n",
      "|21426434|     0|       66|     4|    0| 76|    2|   1|  2517|\n",
      "|50248995|     0|       72|     5|    0| 22|    0|   1|   532|\n",
      "|46645466|     0|      271|    22|    0| 20|   15|   1|  1807|\n",
      "|24694872|     0|       72|     5|    1| 67|    6|   1|  1445|\n",
      "|27828025|     0|       95|     4|    0| 67|   12|   1|  2318|\n",
      "|23183318|     0|       73|     5|    0| 84|    0|   1|  4856|\n",
      "|51684790|     0|       47|     5|    0| 43|    0|   1|    23|\n",
      "| 9718999|     0|      136|    17|    0| 76|   12|   1|   808|\n",
      "|25109861|     0|       72|     5|    1| 53|    0|   1|    23|\n",
      "|41518866|     0|       53|     4|    1| 65|    0|   1|  1176|\n",
      "|33843672|     0|       73|     5|    1| 38|    4|   1|  1608|\n",
      "|51680463|     0|       72|     5|    0| 50|    1|   1|  1569|\n",
      "|36882308|     0|       73|     5|    1| 39|    1|   1|  2355|\n",
      "|14533849|     0|       59|     1|    0| 42|    0|   1|  3803|\n",
      "|17091086|     0|       52|    29|    0| 53|    0|   1|  2500|\n",
      "|51424938|     0|      149|     9|    1| 63|   12|   1|  1636|\n",
      "|51668089|     0|       79|     5|    1| 24|    1|   1|   309|\n",
      "|36548159|     3|      271|    22|    0| 45|   22|   1|  5135|\n",
      "|24191843|     0|      214|    22|    0| 86|   17|   1|  3470|\n",
      "+--------+------+---------+------+-----+---+-----+----+------+\n",
      "only showing top 20 rows\n",
      "\n"
     ]
    }
   ],
   "source": [
    "MRI_df.show()"
   ]
  },
  {
   "cell_type": "markdown",
   "metadata": {},
   "source": [
    "### textfile import to DF"
   ]
  },
  {
   "cell_type": "code",
   "execution_count": 24,
   "metadata": {},
   "outputs": [],
   "source": [
    "sc = spark.sparkContext"
   ]
  },
  {
   "cell_type": "code",
   "execution_count": 27,
   "metadata": {},
   "outputs": [],
   "source": [
    "data = sc.textFile('hdfs://quickstart.cloudera/user/cloudera/model_deploy/data/Pdata_rdd.txt')\n",
    "parts = data.map(lambda l :l.split(\",\"))"
   ]
  },
  {
   "cell_type": "code",
   "execution_count": 30,
   "metadata": {},
   "outputs": [
    {
     "data": {
      "text/plain": [
       "[['37753240', '0', '197', '22', '0', '64', '17', '1', '2296'],\n",
       " ['21426434', '0', '66', '4', '0', '76', '2', '1', '2517'],\n",
       " ['50248995', '0', '72', '5', '0', '22', '0', '1', '532'],\n",
       " ['46645466', '0', '271', '22', '0', '20', '15', '1', '1807'],\n",
       " ['24694872', '0', '72', '5', '1', '67', '6', '1', '1445']]"
      ]
     },
     "execution_count": 30,
     "metadata": {},
     "output_type": "execute_result"
    }
   ],
   "source": [
    "parts.take(5)"
   ]
  },
  {
   "cell_type": "code",
   "execution_count": 44,
   "metadata": {},
   "outputs": [],
   "source": [
    "people = parts.map(lambda p: Row(PNO = p[0],Item = int(p[1]),ORDERDR = int(p[2]),DEPT = int(p[3]),SEX = int(p[4]),AGE = int(p[5]),POS = int(p[6]),IO = int(p[7]),SECOND = int(p[8])))"
   ]
  },
  {
   "cell_type": "code",
   "execution_count": 46,
   "metadata": {},
   "outputs": [],
   "source": [
    "schemaPeople = people.toDF()"
   ]
  },
  {
   "cell_type": "code",
   "execution_count": 48,
   "metadata": {},
   "outputs": [
    {
     "name": "stdout",
     "output_type": "stream",
     "text": [
      "root\n",
      " |-- AGE: long (nullable = true)\n",
      " |-- DEPT: long (nullable = true)\n",
      " |-- IO: long (nullable = true)\n",
      " |-- Item: long (nullable = true)\n",
      " |-- ORDERDR: long (nullable = true)\n",
      " |-- PNO: string (nullable = true)\n",
      " |-- POS: long (nullable = true)\n",
      " |-- SECOND: long (nullable = true)\n",
      " |-- SEX: long (nullable = true)\n",
      "\n"
     ]
    }
   ],
   "source": [
    "schemaPeople.printSchema()"
   ]
  },
  {
   "cell_type": "code",
   "execution_count": 49,
   "metadata": {},
   "outputs": [],
   "source": [
    "schemaPeople.createOrReplaceTempView(\"people\")"
   ]
  },
  {
   "cell_type": "code",
   "execution_count": 55,
   "metadata": {},
   "outputs": [],
   "source": [
    "test = spark.sql(\"select PNO,SECOND From people where AGE > 20 and IO = 2\")"
   ]
  },
  {
   "cell_type": "code",
   "execution_count": 56,
   "metadata": {
    "scrolled": false
   },
   "outputs": [
    {
     "name": "stdout",
     "output_type": "stream",
     "text": [
      "+--------+------+\n",
      "|     PNO|SECOND|\n",
      "+--------+------+\n",
      "|30429971|  1860|\n",
      "|51647441|  2720|\n",
      "|51477931|  3123|\n",
      "|36984811|  1138|\n",
      "|34264946|  2947|\n",
      "|  971625|  1883|\n",
      "|29120361|  2404|\n",
      "|10036256|  2595|\n",
      "|32139490|   173|\n",
      "|12691530|  1493|\n",
      "|50238389|  3172|\n",
      "|14301733|  2556|\n",
      "|37612764|  2872|\n",
      "|51958062|  4750|\n",
      "|39930297|   216|\n",
      "|41382121|  2184|\n",
      "|27160449|  1983|\n",
      "|51965885|  2825|\n",
      "|45419324|  2148|\n",
      "|26953974|   137|\n",
      "+--------+------+\n",
      "only showing top 20 rows\n",
      "\n"
     ]
    }
   ],
   "source": [
    "test.show()"
   ]
  },
  {
   "cell_type": "code",
   "execution_count": 61,
   "metadata": {},
   "outputs": [],
   "source": [
    "schemaPeople.write.csv('hdfs://quickstart.cloudera/user/cloudera/model_deploy/data/pdata_sparksql',mode='append')"
   ]
  },
  {
   "cell_type": "code",
   "execution_count": 62,
   "metadata": {},
   "outputs": [],
   "source": [
    "schemaPeople.write.parquet('hdfs://quickstart.cloudera/user/cloudera/model_deploy/data/pdata_sparksql',mode='append')"
   ]
  }
 ],
 "metadata": {
  "kernelspec": {
   "display_name": "Python 3",
   "language": "python",
   "name": "python3"
  },
  "language_info": {
   "codemirror_mode": {
    "name": "ipython",
    "version": 3
   },
   "file_extension": ".py",
   "mimetype": "text/x-python",
   "name": "python",
   "nbconvert_exporter": "python",
   "pygments_lexer": "ipython3",
   "version": "3.7.3"
  }
 },
 "nbformat": 4,
 "nbformat_minor": 2
}
